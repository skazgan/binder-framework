{
 "cells": [
  {
   "cell_type": "code",
   "execution_count": 1,
   "id": "6bdc90b3",
   "metadata": {},
   "outputs": [],
   "source": [
    "import pandas as pd\n",
    "import matplotlib.pyplot as plt"
   ]
  },
  {
   "cell_type": "code",
   "execution_count": 3,
   "id": "e8544fc3",
   "metadata": {},
   "outputs": [],
   "source": [
    "cost_data = pd.read_csv(\"Value_of_Energy_Cost.csv\")"
   ]
  },
  {
   "cell_type": "markdown",
   "id": "5473a53a",
   "metadata": {},
   "source": [
    "## Answer for Day4 Question 1"
   ]
  },
  {
   "cell_type": "code",
   "execution_count": 5,
   "id": "fe9fe2a6",
   "metadata": {},
   "outputs": [
    {
     "data": {
      "text/plain": [
       "Company Name\n",
       "1 State Street                              1\n",
       "1-10 Bush Terminal Owner LP                 3\n",
       "100 Church LLC                              2\n",
       "100 Wall Investments                        3\n",
       "120 Broadway Acquisitions JV, LLC (Ldmk)    3\n",
       "                                           ..\n",
       "WorldWide Plumbing Supply, Inc.             3\n",
       "Wurtec Incorporated                         2\n",
       "ZECRON TEXTILE, INC.                        2\n",
       "Zeluck, Inc.                                1\n",
       "gCreate LLC                                 3\n",
       "Name: Company Name, Length: 787, dtype: int64"
      ]
     },
     "execution_count": 5,
     "metadata": {},
     "output_type": "execute_result"
    }
   ],
   "source": [
    "cost_data.groupby(\"Company Name\")[\"Company Name\"].count()"
   ]
  },
  {
   "cell_type": "markdown",
   "id": "672909f3",
   "metadata": {},
   "source": [
    "## Answer for Day4 Question 2"
   ]
  },
  {
   "cell_type": "code",
   "execution_count": 6,
   "id": "ad1f52d4",
   "metadata": {},
   "outputs": [
    {
     "name": "stdout",
     "output_type": "stream",
     "text": [
      "50\n"
     ]
    }
   ],
   "source": [
    "filter1 = cost_data[\"City\"] == \"Queens\"\n",
    "filter2 = cost_data[\"City\"] == \"QUEENS\"\n",
    "print(cost_data.where(filter1 | filter2).groupby(\"City\")[\"Job created\"].count().sum())"
   ]
  },
  {
   "cell_type": "markdown",
   "id": "6f0729c3",
   "metadata": {},
   "source": [
    "## Answer for Day4 Question 3"
   ]
  },
  {
   "cell_type": "code",
   "execution_count": 9,
   "id": "895506aa",
   "metadata": {},
   "outputs": [
    {
     "name": "stdout",
     "output_type": "stream",
     "text": [
      "domain\n",
      "@ r-andcompany.com          1\n",
      "@21st centuryoptics.com     3\n",
      "@21stcenturyoptics.com      2\n",
      "@4c.com                     1\n",
      "@4over4.com                 4\n",
      "                           ..\n",
      "@wurtec.com                 2\n",
      "@wwps.com                   3\n",
      "@yahoo.com                 19\n",
      "@yorkstudios.com            3\n",
      "@zeluck.com                 1\n",
      "Name: domain, Length: 524, dtype: int64\n"
     ]
    }
   ],
   "source": [
    "pattern = r'(@.*com)'\n",
    "email_column = cost_data[\"company email\"].dropna()\n",
    "cost_data['domain'] = email_column.str.extract(pattern, expand=False)\n",
    "print(cost_data.groupby(\"domain\")[\"domain\"].count())  "
   ]
  },
  {
   "cell_type": "code",
   "execution_count": null,
   "id": "cc849ca5",
   "metadata": {},
   "outputs": [],
   "source": []
  }
 ],
 "metadata": {
  "kernelspec": {
   "display_name": "Python 3 (ipykernel)",
   "language": "python",
   "name": "python3"
  },
  "language_info": {
   "codemirror_mode": {
    "name": "ipython",
    "version": 3
   },
   "file_extension": ".py",
   "mimetype": "text/x-python",
   "name": "python",
   "nbconvert_exporter": "python",
   "pygments_lexer": "ipython3",
   "version": "3.11.4"
  }
 },
 "nbformat": 4,
 "nbformat_minor": 5
}
